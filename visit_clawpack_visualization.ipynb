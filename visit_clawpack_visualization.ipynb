{
 "cells": [
  {
   "cell_type": "markdown",
   "metadata": {},
   "source": [
    "# Clawpack Visualization using Visit\n",
    "\n",
    "\n",
    "\n",
    "## Two dimensional example\n",
    "\n",
    "\n",
    "\n",
    "* Install [Clawpack](http://www.clawpack.org/) and [Visit](https://wci.llnl.gov/simulation/computer-codes/visit/) following the instructions at their corresponding websites.\n",
    "\n",
    "\n",
    "* Run a Clawpack example: go to amrclaw/examples/burgers_2d_square/ in the Clawpack folder repository and type make .plots in the command shell. This will create two folders, one with the output (_output) and other one with the plots (_plots)\n",
    "\n",
    "\n",
    "* Add a file named fort.claw (or anything.claw) to the _output directory with the following lines:\n",
    "\n",
    "```\n",
    "DIR=.\n",
    "TIME_FILES_SCANF=fort.t%04d\n",
    "GRID_FILES_SCANF=fort.q%04d\n",
    "```\n",
    "\n",
    "\n",
    "* Open Visit in the terminal by going to the folder visit/bin and type ./visit\n",
    "\n",
    "\n",
    "* In the Visit GUI, Go to file, open file and open the .claw file from the _output directory of the clawpack example. \n",
    "\n",
    "\n",
    "* Below the timeline in the GUI, click on Add, then go to pseudocolor (like a pcolor plot) and choose col_00 (the first column of the data). Then, click on Draw. You should see the plot of the first frame as well as the AMR contours.\n",
    "\n",
    "\n",
    "* Click play! You should get something like the following images.\n",
    "\n",
    "<img style=\"float: center\" src=\"images/visit0001.png\" width=\"500\">\n",
    "<img style=\"float: center\" src=\"images/visit0002.png\" width=\"500\">\n",
    "\n"
   ]
  },
  {
   "cell_type": "markdown",
   "metadata": {},
   "source": [
    "## Three dimensional example\n",
    "\n",
    "\n",
    "* Install [Clawpack](http://www.clawpack.org/) and [Visit](https://wci.llnl.gov/simulation/computer-codes/visit/) following the instructions at their corresponding websites.\n",
    "\n",
    "\n",
    "* Run a Clawpack example: go to amrclaw/examples/burgers_3d_cubedata/ in the Clawpack folder repository and type make .plots in the command shell. This will create two folders, one with the output (_output) and other one with the plots (_plots)\n",
    "\n",
    "\n",
    "* Add a file named fort.claw (or anything.claw) to the _output directory with the following lines:\n",
    "\n",
    "```\n",
    "DIR=.\n",
    "TIME_FILES_SCANF=fort.t%04d\n",
    "GRID_FILES_SCANF=fort.q%04d\n",
    "```\n",
    "\n",
    "\n",
    "* Open Visit in the terminal by going to the folder visit/bin and type ./visit\n",
    "\n",
    "\n",
    "* In the Visit GUI, Go to file, open file and open the .claw file from the _output directory of the clawpack example. \n",
    "\n",
    "\n",
    "* Below the timeline in the GUI, click on Add, then go to volume or contour and choose col_00 (the first column of the data).Then, click on draw. You should see the plot of the first frame. It is also possible to rotate the view in the visualization window.\n",
    "\n",
    "\n",
    "* Click play! You should get something like the following images.\n",
    "\n",
    "<img style=\"float: center\" src=\"images/visit0004.png\" width=\"500\">\n",
    "<img style=\"float: center\" src=\"images/visit0005.png\" width=\"500\">"
   ]
  },
  {
   "cell_type": "markdown",
   "metadata": {},
   "source": [
    "<b>Note these are all very simple examples to show you how to load the clawpack data into visit. Once the data is loaded, you can use the full power of Visit to visualize your data in many different ways.</b>"
   ]
  }
 ],
 "metadata": {
  "kernelspec": {
   "display_name": "Python 2",
   "language": "python",
   "name": "python2"
  },
  "language_info": {
   "codemirror_mode": {
    "name": "ipython",
    "version": 2
   },
   "file_extension": ".py",
   "mimetype": "text/x-python",
   "name": "python",
   "nbconvert_exporter": "python",
   "pygments_lexer": "ipython2",
   "version": "2.7.6"
  }
 },
 "nbformat": 4,
 "nbformat_minor": 0
}
